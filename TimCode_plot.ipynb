{
 "cells": [
  {
   "cell_type": "markdown",
   "metadata": {},
   "source": [
    "## Tim's Code:"
   ]
  },
  {
   "cell_type": "code",
   "execution_count": 28,
   "metadata": {},
   "outputs": [],
   "source": [
    "# -*- coding: utf-8 -*-\n",
    "\"\"\"\n",
    "Created on Fri Jul 12 11:23:05 2024\n",
    "\n",
    "@author: HP\n",
    "\"\"\"\n",
    "\n",
    "import random\n",
    "\n",
    "#first initialise the offspring distribution (zeta): p_0, p_1, ... p_k\n",
    "def zeta_unspecified(randweight=10, tolerance=10**(-6)):\n",
    "    T = 1\n",
    "    p = []\n",
    "    while T > 0:\n",
    "        newp = random.random()/randweight\n",
    "        if T >= newp:\n",
    "            T = T - newp\n",
    "            p.append(newp)\n",
    "        else:\n",
    "            p.append(T)\n",
    "            T = 0\n",
    "    assert(-tolerance <= sum(p) - 1 <= tolerance)\n",
    "    return p\n",
    "\n",
    "\n",
    "##########################################################################################"
   ]
  },
  {
   "cell_type": "markdown",
   "metadata": {},
   "source": [
    "### a zeta where the expected number of children is 1, this is called a critical GW process"
   ]
  },
  {
   "cell_type": "code",
   "execution_count": 29,
   "metadata": {},
   "outputs": [],
   "source": [
    "zeta_critical_example1 = [0.4, 0.3, 0.2, 0.1]\n",
    "zeta_critical_example2 = [0.3, 0.4, 0.3]"
   ]
  },
  {
   "cell_type": "markdown",
   "metadata": {},
   "source": [
    "### next we use the previous code to make a zeta and generate a GW tree of specified size n\n"
   ]
  },
  {
   "cell_type": "code",
   "execution_count": 30,
   "metadata": {},
   "outputs": [],
   "source": [
    "def generate_GW(zeta, n):\n",
    "    kidlist = [i for i in range(len(zeta))]\n",
    "    edges = set()\n",
    "    parent=0\n",
    "    upper=1\n",
    "    while upper <= n-1:\n",
    "        [nchild] = random.choices(kidlist,weights=zeta, k=1)\n",
    "        #print(nchild)\n",
    "        for _ in range(nchild):\n",
    "            edges.add((parent, upper))\n",
    "            upper += 1\n",
    "            #print(edges)\n",
    "            if upper >= n:\n",
    "                return (n, edges)\n",
    "        if parent+1 >= upper:\n",
    "            return (n, edges)\n",
    "        parent += 1\n"
   ]
  },
  {
   "cell_type": "markdown",
   "metadata": {},
   "source": [
    "## Time to plot the generated trees:"
   ]
  },
  {
   "cell_type": "markdown",
   "metadata": {},
   "source": [
    "### Set the parameters for the plotting:"
   ]
  },
  {
   "cell_type": "code",
   "execution_count": 31,
   "metadata": {},
   "outputs": [
    {
     "name": "stdout",
     "output_type": "stream",
     "text": [
      "Tree with 10 nodes:\n",
      "Edges: {(0, 1), (2, 4), (6, 8), (0, 3), (7, 9), (6, 7), (0, 2), (5, 6), (3, 5)}\n"
     ]
    }
   ],
   "source": [
    "n = 10  \n",
    "zeta = [0.4, 0.3, 0.2, 0.1]  \n",
    "\n",
    "nodes, edges = generate_GW(zeta, n)\n",
    "print(f'Tree with {nodes} nodes:')\n",
    "print('Edges:', edges)"
   ]
  },
  {
   "cell_type": "markdown",
   "metadata": {},
   "source": [
    "### Function to plot the trees:"
   ]
  },
  {
   "cell_type": "code",
   "execution_count": 32,
   "metadata": {},
   "outputs": [],
   "source": [
    "import matplotlib.pyplot as plt\n",
    "\n",
    "def plot_tree(edges):\n",
    "    def get_positions(node, depth=0, pos={}, x=0, dx=1):\n",
    "        if node not in pos:\n",
    "            pos[node] = (x, -depth)\n",
    "            children = [v for u, v in edges if u == node]\n",
    "            if children:\n",
    "                dx = dx / len(children)\n",
    "                next_x = x - dx * (len(children) - 1) / 2\n",
    "                for i, child in enumerate(children):\n",
    "                    pos = get_positions(child, depth + 1, pos, next_x + i * dx, dx)\n",
    "        return pos\n",
    "    \n",
    "    def draw_tree(ax, edges, pos):\n",
    "        for u, v in edges:\n",
    "            x_values = [pos[u][0], pos[v][0]]\n",
    "            y_values = [pos[u][1], pos[v][1]]\n",
    "            ax.plot(x_values, y_values, 'gray')\n",
    "        \n",
    "        for node, (x, y) in pos.items():\n",
    "            ax.scatter(x, y, c='skyblue', s=100)\n",
    "            ax.text(x, y, str(node), fontsize=12, ha='center', va='center', color='black')\n",
    "    \n",
    "    fig, ax = plt.subplots(figsize=(8, 8))\n",
    "    ax.set_aspect('equal')\n",
    "    ax.set_axis_off()\n",
    "\n",
    "    root = 0\n",
    "    pos = get_positions(root)\n",
    "    draw_tree(ax, edges, pos)\n",
    "\n",
    "    plt.show()"
   ]
  },
  {
   "cell_type": "markdown",
   "metadata": {},
   "source": [
    "## Plot here!"
   ]
  },
  {
   "cell_type": "code",
   "execution_count": 59,
   "metadata": {},
   "outputs": [
    {
     "name": "stdout",
     "output_type": "stream",
     "text": [
      "Tree with 8 nodes:\n",
      "Edges: {(0, 1), (2, 4), (0, 2), (5, 6), (1, 3), (3, 5)}\n"
     ]
    },
    {
     "data": {
      "image/png": "[encoded data removed]",
      "text/plain": [
       "<Figure size 800x800 with 1 Axes>"
      ]
     },
     "metadata": {},
     "output_type": "display_data"
    }
   ],
   "source": [
    "n = 8\n",
    "zeta = [0.4, 0.3, 0.2, 0.1] \n",
    "\n",
    "nodes, edges = generate_GW(zeta, n)\n",
    "print(f'Tree with {nodes} nodes:')\n",
    "print('Edges:', edges)\n",
    "\n",
    "plot_tree(edges)"
   ]
  }
 ],
 "metadata": {
  "kernelspec": {
   "display_name": "Python 3",
   "language": "python",
   "name": "python3"
  },
  "language_info": {
   "codemirror_mode": {
    "name": "ipython",
    "version": 3
   },
   "file_extension": ".py",
   "mimetype": "text/x-python",
   "name": "python",
   "nbconvert_exporter": "python",
   "pygments_lexer": "ipython3",
   "version": "3.11.3"
  },
  "orig_nbformat": 4
 },
 "nbformat": 4,
 "nbformat_minor": 2
}
