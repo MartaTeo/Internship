{
 "cells": [
  {
   "cell_type": "code",
   "execution_count": 1,
   "metadata": {},
   "outputs": [],
   "source": [
    "\n",
    "# Function to perform BFS from a given node (gfg)\n",
    "def bfs(adjList, startNode, visited):\n",
    "\n",
    "    # variables are named self-explanatory\n",
    "\n",
    "    # Create a queue for BFS\n",
    "    q = deque()\n",
    "\n",
    "    # Mark the current node as visited and enqueue it\n",
    "    visited[startNode] = True\n",
    "    q.append(startNode)\n",
    "\n",
    "    # Iterate over the queue\n",
    "    while q:\n",
    "        # Dequeue a vertex from queue and print it\n",
    "        currentNode = q.popleft()\n",
    "        # print(currentNode, end=\" \")\n",
    "\n",
    "        # Get all adjacent vertices of the dequeued vertex\n",
    "        # If an adjacent has not been visited, then mark it visited and enqueue it\n",
    "        for neighbor in adjList[currentNode]:\n",
    "            if not visited[neighbor]:\n",
    "                visited[neighbor] = True\n",
    "                q.append(neighbor)\n"
   ]
  },
  {
   "cell_type": "code",
   "execution_count": 2,
   "metadata": {},
   "outputs": [],
   "source": [
    "# Useful variables\n",
    "\n",
    "import collections\n",
    "\n",
    "MAXN = 1025 # max size, can be changed\n",
    "\n",
    "tree = collections.defaultdict(list)\n",
    "centroidTree = collections.defaultdict(list)\n",
    "centroidMarked = [False]*MAXN\n",
    "\n",
    "# method to setup subtree sizes and nodes in current tree (gfg)\n",
    "def DFS(src, visited, subtree_size, n):\n",
    "     \n",
    "    # src: The current node being considered as a centroid.\n",
    "    # visited: A list or array indicating whether a node has been visited.\n",
    "    # subtree_size: A list or array containing the sizes of the subtrees rooted at each node.\n",
    "    # n: total number of nodes\n",
    "\n",
    "\t# mark node visited \n",
    "\tvisited[src] = True\n",
    "\n",
    "\t# increase count of nodes visited \n",
    "\tn[0] += 1\n",
    "\n",
    "\t# initialize subtree size for current node\n",
    "\tsubtree_size[src] = 1\n",
    "\n",
    "\t# recur on non-visited and non-centroid neighbours \n",
    "\tfor it in tree[src]:\n",
    "\t\tif not visited[it] and not centroidMarked[it]:\n",
    "\t\t\tDFS(it, visited, subtree_size, n)\n",
    "\t\t\tsubtree_size[src] += subtree_size[it]\n",
    "        "
   ]
  }
 ],
 "metadata": {
  "kernelspec": {
   "display_name": "base",
   "language": "python",
   "name": "python3"
  },
  "language_info": {
   "codemirror_mode": {
    "name": "ipython",
    "version": 3
   },
   "file_extension": ".py",
   "mimetype": "text/x-python",
   "name": "python",
   "nbconvert_exporter": "python",
   "pygments_lexer": "ipython3",
   "version": "3.11.3"
  },
  "orig_nbformat": 4
 },
 "nbformat": 4,
 "nbformat_minor": 2
}
