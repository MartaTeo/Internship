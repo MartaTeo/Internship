{
 "cells": [
  {
   "cell_type": "code",
   "execution_count": 2,
   "metadata": {},
   "outputs": [],
   "source": [
    "from collections import deque\n",
    "\n",
    "def tree_burning_number(tree):\n",
    "    n = len(tree)\n",
    "    if n == 0:\n",
    "        return 0\n",
    "\n",
    "    def bfs_farthest_node(start):\n",
    "        queue = deque([(start, 0)])\n",
    "        visited = set([start])\n",
    "        farthest_node = start\n",
    "        max_distance = 0\n",
    "\n",
    "        while queue:\n",
    "            node, distance = queue.popleft()\n",
    "            if distance > max_distance:\n",
    "                max_distance = distance\n",
    "                farthest_node = node\n",
    "\n",
    "            for neighbor in tree[node]:\n",
    "                if neighbor not in visited:\n",
    "                    visited.add(neighbor)\n",
    "                    queue.append((neighbor, distance + 1))\n",
    "\n",
    "        return farthest_node, max_distance\n",
    "\n",
    "    farthest_node_from_root, _ = bfs_farthest_node(0)\n",
    "    farthest_node, diameter = bfs_farthest_node(farthest_node_from_root)\n",
    "\n",
    "    burning_number = (diameter + 1) // 2\n",
    "    return burning_number\n",
    "\n",
    "\n"
   ]
  },
  {
   "cell_type": "markdown",
   "metadata": {},
   "source": [
    "### Reasoning for the code:\n",
    "\n",
    "* Handling edge cases ($n=0$ - when there are no vertices left)\n",
    "* Find the furthest node from the start by *Breadth-First Search* $\\implies$ longest distance from the **start** $\\implies$ longest path from the **start**\n",
    "* Compute the *diameter* of the tree by calling the previous function twice (from the root and from the furthest node)\\\\\n",
    "\n",
    "\n",
    "* $\\textbf{burning number} = \\displaystyle \\frac{\\textbf{diameter} + 1}{2}$"
   ]
  },
  {
   "cell_type": "code",
   "execution_count": 3,
   "metadata": {},
   "outputs": [
    {
     "name": "stdout",
     "output_type": "stream",
     "text": [
      "The burning number of the tree is: 2\n"
     ]
    }
   ],
   "source": [
    "# Example\n",
    "\n",
    "\n",
    "tree = {\n",
    "    0: [1, 2],\n",
    "    1: [0, 3, 4],\n",
    "    2: [0],\n",
    "    3: [1],\n",
    "    4: [1, 5, 6],\n",
    "    5: [4],\n",
    "    6: [4]\n",
    "}\n",
    "\n",
    "print(f\"The burning number of the tree is: {tree_burning_number(tree)}\")"
   ]
  },
  {
   "cell_type": "code",
   "execution_count": 4,
   "metadata": {},
   "outputs": [
    {
     "name": "stdout",
     "output_type": "stream",
     "text": [
      "The burning number of the tree is: 3\n"
     ]
    }
   ],
   "source": [
    "#Paths\n",
    "\n",
    "path_tree = {\n",
    "    0: [1],\n",
    "    1: [0, 2],\n",
    "    2: [1, 3],\n",
    "    3: [2, 4],\n",
    "    4: [3, 5],\n",
    "    5: [4, 6],\n",
    "    6: [5]\n",
    "}\n",
    "\n",
    "print(f\"The burning number of the tree is: {tree_burning_number(path_tree)}\")"
   ]
  },
  {
   "cell_type": "code",
   "execution_count": 6,
   "metadata": {},
   "outputs": [
    {
     "name": "stdout",
     "output_type": "stream",
     "text": [
      "The burning number of the tree is: 5\n"
     ]
    }
   ],
   "source": [
    "# Larger Example\n",
    "\n",
    "tree = {\n",
    "    0: [1],          # Node 0\n",
    "    1: [0, 2, 3],    # Node 1\n",
    "    2: [1, 4, 5],    # Node 2\n",
    "    3: [1, 6],       # Node 3\n",
    "    4: [2, 7],       # Node 4\n",
    "    5: [2, 8, 9],    # Node 5\n",
    "    6: [3],          # Node 6\n",
    "    7: [4],          # Node 7\n",
    "    8: [5, 10, 11],  # Node 8\n",
    "    9: [5],          # Node 9\n",
    "    10: [8, 12, 13],  # Node 10\n",
    "    11: [8, 14],      # Node 11\n",
    "    12: [10, 15, 16], # Node 12\n",
    "    13: [10],         # Node 13\n",
    "    14: [11],         # Node 14\n",
    "    15: [12],         # Node 15\n",
    "    16: [12, 17, 18], # Node 16\n",
    "    17: [16, 19, 20], # Node 17\n",
    "    18: [16],         # Node 18\n",
    "    19: [17],         # Node 19\n",
    "    20: [17],         # Node 20\n",
    "}\n",
    "\n",
    "print(f\"The burning number of the tree is: {tree_burning_number(tree)}\")"
   ]
  }
 ],
 "metadata": {
  "kernelspec": {
   "display_name": "base",
   "language": "python",
   "name": "python3"
  },
  "language_info": {
   "codemirror_mode": {
    "name": "ipython",
    "version": 3
   },
   "file_extension": ".py",
   "mimetype": "text/x-python",
   "name": "python",
   "nbconvert_exporter": "python",
   "pygments_lexer": "ipython3",
   "version": "3.11.3"
  },
  "orig_nbformat": 4
 },
 "nbformat": 4,
 "nbformat_minor": 2
}
